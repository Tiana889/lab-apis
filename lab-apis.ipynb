{
 "cells": [
  {
   "cell_type": "markdown",
   "id": "27422808-8a16-4be1-897f-57b379af8991",
   "metadata": {},
   "source": [
    "# Lab | APIs"
   ]
  },
  {
   "cell_type": "markdown",
   "id": "50f30950-3e31-499a-92ea-1535422c570b",
   "metadata": {},
   "source": [
    "In order to use the `Spotify` API (`SpotiPy`), create an account in `Spotify` and follow [these](https://developer.spotify.com/documentation/general/guides/app-settings/) steps. "
   ]
  },
  {
   "cell_type": "markdown",
   "id": "a0479b95-6ca5-415e-b894-1f5cb17b055b",
   "metadata": {},
   "source": [
    "## Authentication and initializing the API"
   ]
  },
  {
   "cell_type": "markdown",
   "id": "47d71611-c617-4972-a0c3-7090c24b399c",
   "metadata": {},
   "source": [
    "Save your client ID and your client secret in your preferred way, and read it or load it into the following variables:"
   ]
  },
  {
   "cell_type": "code",
   "execution_count": 1,
   "id": "592091fb",
   "metadata": {},
   "outputs": [],
   "source": [
    "import requests\n",
    "import pandas as pd"
   ]
  },
  {
   "cell_type": "code",
   "execution_count": 2,
   "id": "ea44c82a-5c07-4dbc-beb2-bba2601bb75e",
   "metadata": {},
   "outputs": [],
   "source": [
    "CLIENT_ID = \"<introduce your client id>\"\n",
    "CLIENT_SECRET = \"<introduce your client secret>\""
   ]
  },
  {
   "cell_type": "code",
   "execution_count": 3,
   "id": "319cfd4e-f6fb-4419-80e0-e3983cd25e43",
   "metadata": {},
   "outputs": [],
   "source": [
    "CLIENT_ID = \"9f8fa04c80a94cbc99b0190449fe7374\"\n",
    "CLIENT_SECRET = \"0169432afd76420a8b992fd89788610b\""
   ]
  },
  {
   "cell_type": "code",
   "execution_count": 4,
   "id": "04e12954-fd70-4311-88a5-fb7e2c29799c",
   "metadata": {},
   "outputs": [
    {
     "name": "stdout",
     "output_type": "stream",
     "text": [
      "Requirement already satisfied: spotipy in /Users/natalialabrador/anaconda3/lib/python3.11/site-packages (2.23.0)\r\n",
      "Requirement already satisfied: redis>=3.5.3 in /Users/natalialabrador/anaconda3/lib/python3.11/site-packages (from spotipy) (5.0.3)\r\n",
      "Requirement already satisfied: requests>=2.25.0 in /Users/natalialabrador/anaconda3/lib/python3.11/site-packages (from spotipy) (2.31.0)\r\n",
      "Requirement already satisfied: six>=1.15.0 in /Users/natalialabrador/anaconda3/lib/python3.11/site-packages (from spotipy) (1.16.0)\r\n",
      "Requirement already satisfied: urllib3>=1.26.0 in /Users/natalialabrador/anaconda3/lib/python3.11/site-packages (from spotipy) (1.26.16)\r\n",
      "Requirement already satisfied: charset-normalizer<4,>=2 in /Users/natalialabrador/anaconda3/lib/python3.11/site-packages (from requests>=2.25.0->spotipy) (2.0.4)\r\n",
      "Requirement already satisfied: idna<4,>=2.5 in /Users/natalialabrador/anaconda3/lib/python3.11/site-packages (from requests>=2.25.0->spotipy) (3.4)\r\n",
      "Requirement already satisfied: certifi>=2017.4.17 in /Users/natalialabrador/anaconda3/lib/python3.11/site-packages (from requests>=2.25.0->spotipy) (2024.2.2)\r\n"
     ]
    }
   ],
   "source": [
    "# If you havent done so, install the spotipy wrapper\n",
    "!pip install spotipy"
   ]
  },
  {
   "cell_type": "markdown",
   "id": "dc0e86da-8846-4207-84c3-cd20b9e01d0e",
   "metadata": {},
   "source": [
    "Once you have done it, we will start initializing the API."
   ]
  },
  {
   "cell_type": "code",
   "execution_count": 5,
   "id": "03034bc6-9858-412a-83b7-18abdc345d7e",
   "metadata": {},
   "outputs": [],
   "source": [
    "import spotipy\n",
    "from spotipy.oauth2 import SpotifyClientCredentials\n",
    "\n",
    "#Initialize SpotiPy with user credentials\n",
    "sp = spotipy.Spotify(auth_manager=SpotifyClientCredentials(client_id=CLIENT_ID,\n",
    "                                                           client_secret=CLIENT_SECRET))\n"
   ]
  },
  {
   "cell_type": "markdown",
   "id": "71c3c9c1-4ec2-42bf-a243-b21105ae1699",
   "metadata": {},
   "source": [
    "## Exercise 1: Discovering New Music through Your Favorite Artists\n",
    "\n",
    "**Objective:** \n",
    "Uncover new music by exploring the top tracks of your favorite artists and their related artists.\n",
    "\n",
    "**Instructions:**\n",
    "\n",
    "1. **List Your Favorite Artists**:\n",
    "    - Make a list of your three favorite artists and store it in a variable named `artists`.\n",
    "    - Example: `artists = [\"Los Fabulosos Cadillacs\", \"Manu Chao\", \"Muchachito Bombo Infierno\"]`.\n",
    "\n",
    "2. **Fetch Top Tracks**:\n",
    "    - Write a function named `get_top_tracks`.\n",
    "    - This function should accept an artist's name and return the name of the first 5 top tracks by that artist.\n",
    "    - Use the function `get_top_tracks` to get the first 5 top tracks for each artist in your `artists` list and store the results in a new list named `top_tracks_list`.\n",
    "\n",
    "3. **Discover Related Artists**:\n",
    "    - Write a function named `find_related_artists`.\n",
    "    - This function should accept an artist's name and return the names of the first 5 artists related to the provided artist.\n",
    "    - Store the results in a list named `related_artists_list`.\n",
    "\n",
    "**Challenge:** \n",
    "Combine the above steps to create a playlist that includes the top tracks of your favorite artists and the top tracks of the artists related to them."
   ]
  },
  {
   "cell_type": "markdown",
   "id": "0c442378-e26f-47c8-b4f1-b4fa07089935",
   "metadata": {},
   "source": [
    "**Hint Section for 3. **Discover Related Artists**:**\n",
    "\n",
    "1. **Getting Artist ID**:\n",
    "    - Remember that every artist on Spotify has a unique identifier: their `id`. To get the related artists, you first need to fetch the ID of the given artist.\n",
    "    - Consider using the `sp.search` method to query the artist's name. The method requires a `q` parameter, which is your query (in this case, the artist's name). It also has a `limit` parameter, which specifies the number of tracks it returns. In this case, 1 track is enough, since we just want the artist ID. \n",
    "    - Each track in the results has an associated 'artists' field. This field is a list containing details about all artists involved in that track.\n",
    "   - For most tracks, especially those by a single artist, this list will contain one artist. From this artist's details, you can extract the 'id' field, which is the unique identifier for that artist on Spotify.\n",
    "\n",
    "\n",
    "3. **Fetching Related Artists**:\n",
    "    - Once you have the artist's ID, you can use another SpotiPy method to fetch related artists. Think about which SpotiPy method allows you to get related artists using an artist's ID. Here is the documentation link: https://spotipy.readthedocs.io/en/2.22.1/. \n",
    "    - This method will return a list of related artists. You'll need to extract the relevant details (artist names) from this list.\n",
    "\n",
    "4. **Iterating for Multiple Artists**:\n",
    "    - Once you have a function that returns related artists names for one artist, you can use a list comprehension to apply this function to a list of artist names.\n",
    "\n",
    "5. **Testing**:\n",
    "    - Always test your function with one artist name first. Once you're confident it works, then apply it to the entire list.\n",
    "\n",
    "Remember, the key is to break the problem down into manageable steps. Use the SpotiPy documentation as a resource to understand available methods and their return structures."
   ]
  },
  {
   "cell_type": "code",
   "execution_count": 6,
   "id": "29694252-f217-454d-8881-681b2b6eeb1e",
   "metadata": {},
   "outputs": [],
   "source": [
    "# Exercise 1: Discovering New Music through Your Favorite Artists\n",
    "\n",
    "# 1. List Your Favorite Artists:\n",
    "artists = [\"Fred again..\", \"The Lumineers\", \"Sen Senra\"]"
   ]
  },
  {
   "cell_type": "code",
   "execution_count": 7,
   "id": "d5e79026",
   "metadata": {},
   "outputs": [],
   "source": [
    "# Get the first artist results\n",
    "results_fredagain = sp.search(q='Fred Again..', limit=50)"
   ]
  },
  {
   "cell_type": "code",
   "execution_count": 8,
   "id": "b5b1cdee",
   "metadata": {},
   "outputs": [],
   "source": [
    "# Get the second artist results\n",
    "results_thelumineers = sp.search(q='The Lumineers', limit=50)"
   ]
  },
  {
   "cell_type": "code",
   "execution_count": 9,
   "id": "66be3b40",
   "metadata": {},
   "outputs": [],
   "source": [
    "# Get the third artist results\n",
    "results_sensenra = sp.search(q='Sen Senra', limit=50)"
   ]
  },
  {
   "cell_type": "code",
   "execution_count": 10,
   "id": "cfaa2ccb",
   "metadata": {},
   "outputs": [],
   "source": [
    "# 2. Fetch Top Tracks:\n",
    "def get_top_tracks(artist_data):\n",
    "    top_tracks_list = []\n",
    "    # Verificar si el diccionario contiene información sobre las pistas\n",
    "    if artist_data and \"tracks\" in artist_data and \"items\" in artist_data[\"tracks\"]:\n",
    "        # Iterar sobre las pistas y obtener los nombres de las primeras 5\n",
    "        for track in artist_data[\"tracks\"][\"items\"][:5]:\n",
    "            track_name = track[\"name\"]\n",
    "            top_tracks_list.append(track_name)\n",
    "        \n",
    "    return top_tracks_list"
   ]
  },
  {
   "cell_type": "code",
   "execution_count": 11,
   "id": "a12f31fc",
   "metadata": {},
   "outputs": [
    {
     "data": {
      "text/plain": [
       "['adore u',\n",
       " 'Delilah (pull me out of this)',\n",
       " 'ten',\n",
       " 'Jungle',\n",
       " 'BerwynGesaffNeighbours']"
      ]
     },
     "execution_count": 11,
     "metadata": {},
     "output_type": "execute_result"
    }
   ],
   "source": [
    "# Call the function for the first artist\n",
    "get_top_tracks(results_fredagain)"
   ]
  },
  {
   "cell_type": "code",
   "execution_count": 12,
   "id": "2556c768",
   "metadata": {},
   "outputs": [
    {
     "data": {
      "text/plain": [
       "['Ho Hey',\n",
       " 'Spotless (feat. The Lumineers)',\n",
       " 'Ophelia',\n",
       " 'Flowers in Your Hair',\n",
       " 'Sleep On The Floor']"
      ]
     },
     "execution_count": 12,
     "metadata": {},
     "output_type": "execute_result"
    }
   ],
   "source": [
    "# Call the function for the second artist\n",
    "get_top_tracks(results_thelumineers)"
   ]
  },
  {
   "cell_type": "code",
   "execution_count": 13,
   "id": "1d912671",
   "metadata": {},
   "outputs": [
    {
     "data": {
      "text/plain": [
       "['1000CANCIONES',\n",
       " '86.400',\n",
       " 'Nada Y Nadie',\n",
       " 'Ya No Te Hago Falta',\n",
       " 'Uno De Eses Gatos']"
      ]
     },
     "execution_count": 13,
     "metadata": {},
     "output_type": "execute_result"
    }
   ],
   "source": [
    "# Call the function for the third artist\n",
    "get_top_tracks(results_sensenra)"
   ]
  },
  {
   "cell_type": "code",
   "execution_count": 14,
   "id": "0e2e09e4",
   "metadata": {},
   "outputs": [],
   "source": [
    "# 3. Discover Related Artists:\n",
    "\n",
    "def find_related_artists(artist_name):\n",
    "    related_artists_list = []\n",
    "    \n",
    "    results = sp.search(q=artist_name, limit=1)\n",
    "    \n",
    "    if results['tracks']['items']:\n",
    "        artist_id = results['tracks']['items'][0]['artists'][0]['id']\n",
    "        \n",
    "        related_artists = sp.artist_related_artists(artist_id)\n",
    "        \n",
    "        for artist in related_artists['artists'][:5]:\n",
    "            related_artists_list.append(artist['name'])\n",
    "    \n",
    "    return related_artists_list\n",
    "        \n",
    "        \n",
    "        "
   ]
  },
  {
   "cell_type": "code",
   "execution_count": 15,
   "id": "3cd2c6f9",
   "metadata": {},
   "outputs": [
    {
     "data": {
      "text/plain": [
       "[\"Barry Can't Swim\", 'Dom Dolla', 'BICEP', 'John Summit', 'FISHER']"
      ]
     },
     "execution_count": 15,
     "metadata": {},
     "output_type": "execute_result"
    }
   ],
   "source": [
    "# Call the function for the first artist\n",
    "find_related_artists(\"Fred Again..\")"
   ]
  },
  {
   "cell_type": "code",
   "execution_count": 16,
   "id": "e752e141",
   "metadata": {},
   "outputs": [
    {
     "data": {
      "text/plain": [
       "['Of Monsters and Men',\n",
       " 'Vance Joy',\n",
       " 'The Head And The Heart',\n",
       " 'Mumford & Sons',\n",
       " 'Edward Sharpe & The Magnetic Zeros']"
      ]
     },
     "execution_count": 16,
     "metadata": {},
     "output_type": "execute_result"
    }
   ],
   "source": [
    "# Call the function for the second artist\n",
    "find_related_artists(\"The Lumineers\")"
   ]
  },
  {
   "cell_type": "code",
   "execution_count": 17,
   "id": "7c455e5f",
   "metadata": {},
   "outputs": [
    {
     "data": {
      "text/plain": [
       "['legallyrxx', 'Papi Sousa', 'Nsqk', 'ALVAR0 DAYS', 'Tainy']"
      ]
     },
     "execution_count": 17,
     "metadata": {},
     "output_type": "execute_result"
    }
   ],
   "source": [
    "# Call the function for the third artist\n",
    "find_related_artists(\"Sen Senra\")"
   ]
  },
  {
   "cell_type": "code",
   "execution_count": 18,
   "id": "2b1dd627",
   "metadata": {},
   "outputs": [
    {
     "name": "stdout",
     "output_type": "stream",
     "text": [
      "1. leavemealone\n",
      "2. How It Feels\n",
      "3. Take It\n",
      "4. Glue\n",
      "5. Shiver\n",
      "6. TAKE IT OFF\n",
      "7. Ho Hey\n",
      "8. Little Talks\n",
      "9. Riptide\n",
      "10. Rivers and Roads\n",
      "11. I Will Wait\n",
      "12. Home\n",
      "13. 1000CANCIONES\n",
      "14. Weeknd<3\n",
      "15. 1%\n",
      "16. EN EL GHETTO #3 (Par de cosas)\n",
      "17. Sabor a Ti\n",
      "18. MOJABI GHOST\n"
     ]
    }
   ],
   "source": [
    "# Challenge: Combine the above steps to create a playlist that includes the top tracks of your favorite artists and the top tracks of the artists related to them.\n",
    "\n",
    "# Lista para almacenar las principales pistas de todos los artistas\n",
    "playlist_tracks = []\n",
    "\n",
    "# Iterar sobre los artistas favoritos\n",
    "for artist_name in artists:\n",
    "    # Obtener información sobre el artista actual\n",
    "    artist_data = sp.search(q=artist_name, limit=1)\n",
    "    \n",
    "    # Obtener las principales pistas del artista actual\n",
    "    top_tracks = get_top_tracks(artist_data)\n",
    "    # Agregar las principales pistas del artista actual a la lista de reproducción\n",
    "    playlist_tracks.extend(top_tracks)\n",
    "    \n",
    "    # Obtener los artistas relacionados del artista actual\n",
    "    related_artists = find_related_artists(artist_name)\n",
    "    # Iterar sobre los artistas relacionados\n",
    "    for related_artist_name in related_artists:\n",
    "        # Obtener información sobre el artista relacionado\n",
    "        related_artist_data = sp.search(q=related_artist_name, limit=1)\n",
    "        # Obtener las principales pistas del artista relacionado\n",
    "        top_tracks_related = get_top_tracks(related_artist_data)\n",
    "        # Agregar las principales pistas del artista relacionado a la lista de reproducción\n",
    "        playlist_tracks.extend(top_tracks_related)\n",
    "\n",
    "# Imprimir la lista de reproducción\n",
    "for idx, track_name in enumerate(playlist_tracks, 1):\n",
    "    print(f\"{idx}. {track_name}\")"
   ]
  },
  {
   "cell_type": "markdown",
   "id": "7b52207e-a4f0-4f90-9f4e-3170d7f0f3fe",
   "metadata": {},
   "source": [
    "## Exercise 2: Unraveling the World of Playlists\n",
    "\n",
    "\n",
    "1. **Featured Exploration**: \n",
    "   - Fetch the list of Spotify's current featured playlists. \n",
    "   - Extract and display the names and IDs of the top 5 featured playlists.\n",
    "   \n",
    "2. **Deep Dive**:\n",
    "   - Choose any one of the top 5 featured playlists (you can choose the one you personally find most interesting or simply pick one randomly).\n",
    "   - Fetch and display its name, description, and total track count.\n",
    "\n",
    "3. **Track-tastic**:\n",
    "   - Extract and display the names of the first 10 tracks in the chosen playlist.\n",
    "\n",
    "4. **Artistic Flair**:\n",
    "   - Create a dictionary where the keys are the names of the first 10 tracks, and the values are lists containing the names of the artists associated with each track.\n",
    "   - For example: `{\"TrackName1\": [\"Artist1\", \"Artist2\"], \"TrackName2\": [\"Artist3\"]}`\n",
    "   "
   ]
  },
  {
   "cell_type": "code",
   "execution_count": 19,
   "id": "ed92d961-9646-4375-a386-ccc320a958f5",
   "metadata": {},
   "outputs": [
    {
     "name": "stdout",
     "output_type": "stream",
     "text": [
      "Top 5 Featured Playlists:\n",
      "1. Name: Éxitos España, ID: 37i9dQZF1DXaxEKcoCdWHD\n",
      "2. Name: PEGAO, ID: 37i9dQZF1DX1HCSfq0nSal\n",
      "3. Name: Viva Latino, ID: 37i9dQZF1DX10zKzsJ2jva\n",
      "4. Name: Viral España 2024, ID: 37i9dQZF1DWVJv1UsWItkB\n",
      "5. Name: míticas, ID: 37i9dQZF1DX2EiUAL7Wdfc\n"
     ]
    }
   ],
   "source": [
    "# 1.Featured Exploration:\n",
    "# Fetch the list of Spotify's current featured playlists\n",
    "# Extract and display the names and IDs of the top 5 featured playlists.\n",
    "\n",
    "def fetch_top_featured_playlists():\n",
    "    featured_playlists = sp.featured_playlists()\n",
    "    \n",
    "    if 'playlists' in featured_playlists and 'items' in featured_playlists['playlists']:\n",
    "        print(\"Top 5 Featured Playlists:\")\n",
    "        for idx, playlist in enumerate(featured_playlists['playlists']['items'][:5], 1):\n",
    "            playlist_name = playlist['name']\n",
    "            playlist_id = playlist['id']\n",
    "            print(f\"{idx}. Name: {playlist_name}, ID: {playlist_id}\")\n",
    "    else:\n",
    "        print(\"No featured playlists found.\")\n",
    "\n",
    "fetch_top_featured_playlists()"
   ]
  },
  {
   "cell_type": "code",
   "execution_count": 20,
   "id": "c91769f0",
   "metadata": {},
   "outputs": [
    {
     "name": "stdout",
     "output_type": "stream",
     "text": [
      "Playlist Name: PEGAO\n",
      "Description: Si está pegao, está aquí. Feat. SAIKO\n",
      "Total Tracks: 40\n"
     ]
    }
   ],
   "source": [
    "# 2. Deep Dive:\n",
    "# Choose any one of the top 5 featured playlists (you can choose the one you personally find most interesting or simply pick one randomly).\n",
    "# Fetch and display its name, description, and total track count.\n",
    "\n",
    "def fetch_playlist_info(playlist_id):\n",
    "\n",
    "    playlist_info = sp.playlist(playlist_id)\n",
    "    \n",
    "    playlist_name = playlist_info['name']\n",
    "    playlist_description = playlist_info['description']\n",
    "    playlist_track_count = playlist_info['tracks']['total']\n",
    "    \n",
    "    print(f\"Playlist Name: {playlist_name}\")\n",
    "    print(f\"Description: {playlist_description}\")\n",
    "    print(f\"Total Tracks: {playlist_track_count}\")\n",
    "\n",
    "playlist_id = '37i9dQZF1DX1HCSfq0nSal'\n",
    "fetch_playlist_info(playlist_id)"
   ]
  },
  {
   "cell_type": "code",
   "execution_count": 21,
   "id": "61dc48b7",
   "metadata": {},
   "outputs": [
    {
     "name": "stdout",
     "output_type": "stream",
     "text": [
      "BADGYAL\n",
      "ADIVINO\n",
      "Santa\n",
      "BBY BOO - REMIX\n",
      "Kilerito\n",
      "LA NENA\n",
      "LA RANGER (feat. Myke Towers)\n",
      "YO LO SOÑÉ\n",
      "FRIKI\n",
      "Espectacular\n",
      "Bien Loco\n",
      "Guay\n",
      "El Conjuntito\n",
      "Martini\n",
      "SI SI SI SI (feat. The Academy: Segunda Misión)\n",
      "La Vida Sin Ti\n",
      "No Te Quieren Conmigo - Remix\n",
      "NÚMERO TELEFÓNICO\n",
      "Diabólica\n",
      "DESATAAA\n",
      "BESAME (feat. Tiago PZK, Khea & Neo Pistea) - Remix\n",
      "No Digas Na\n",
      "X'CLUSIVO - REMIX\n",
      "Lo Que Tiene\n",
      "offline\n",
      "CRUSH\n",
      "Trending Remix (with Myke Towers)\n",
      "SHE TELLS ME\n",
      "TU$$I (with Dei V)\n",
      "Gata Only\n",
      "PERREO LENTO\n",
      "CARNET\n",
      "BAD BOY\n",
      "EMPELOTICA\n",
      "CORLEONE\n",
      "SI SABE FERXXO\n",
      "Hey Lil Mama\n",
      "Una Foto Remix (feat. Emilia)\n",
      "FERXXO 151\n",
      "DILUVIO\n"
     ]
    }
   ],
   "source": [
    "# 3. Track-tastic:\n",
    "#Extract and display the names of the first 10 tracks in the chosen playlist.\n",
    "\n",
    "tracks = sp.playlist_tracks(playlist_id)\n",
    "for track in tracks['items']:\n",
    "    print(track['track']['name'])  "
   ]
  },
  {
   "cell_type": "code",
   "execution_count": 22,
   "id": "73d9811d",
   "metadata": {},
   "outputs": [
    {
     "name": "stdout",
     "output_type": "stream",
     "text": [
      "{'YO LO SOÑÉ': ['SAIKO', 'Omar Montes'], 'Santa': ['Rvssian', 'Rauw Alejandro', 'Ayra Starr'], 'ADIVINO': ['Myke Towers', 'Bad Bunny'], 'El Conjuntito': ['El Bobe', 'Omar Montes'], 'BADGYAL': ['SAIKO', 'JC Reyes'], 'LA SEVILLANA': ['Omar Montes'], \"X'CLUSIVO - REMIX\": ['Gonzy', 'SAIKO', 'Arcángel'], 'Tengo Un Plan': ['Key-Key'], 'NANA DEL HILO ROJO': ['SAIKO', 'Sky Rompiendo'], 'Lo Que Tiene': ['Morad', 'Beny Jr', 'Rvfv']}\n"
     ]
    }
   ],
   "source": [
    "# 4. Artistic Flair:\n",
    "#Create a dictionary where the keys are the names of the first 10 tracks, and the values are lists containing the names of the artists associated with each track.\n",
    "\n",
    "def create_tracks_dict():\n",
    "    featured_playlists = sp.featured_playlists()\n",
    "\n",
    "    if 'playlists' in featured_playlists and 'items' in featured_playlists['playlists']:\n",
    "        first_playlist = featured_playlists['playlists']['items'][0]\n",
    "        tracks_info = sp.playlist_tracks(first_playlist['id'], limit=10)\n",
    "        \n",
    "        tracks_dict = {}\n",
    "        for track_info in tracks_info['items']:\n",
    "            track_name = track_info['track']['name']\n",
    "            artists = [artist['name'] for artist in track_info['track']['artists']]\n",
    "            tracks_dict[track_name] = artists\n",
    "        \n",
    "        return tracks_dict\n",
    "    else:\n",
    "        print(\"No featured playlists found.\")\n",
    "        return {}\n",
    "\n",
    "tracks_dict = create_tracks_dict()\n",
    "\n",
    "print(tracks_dict)"
   ]
  },
  {
   "cell_type": "code",
   "execution_count": null,
   "id": "06c471cd",
   "metadata": {},
   "outputs": [],
   "source": []
  }
 ],
 "metadata": {
  "kernelspec": {
   "display_name": "Python 3 (ipykernel)",
   "language": "python",
   "name": "python3"
  },
  "language_info": {
   "codemirror_mode": {
    "name": "ipython",
    "version": 3
   },
   "file_extension": ".py",
   "mimetype": "text/x-python",
   "name": "python",
   "nbconvert_exporter": "python",
   "pygments_lexer": "ipython3",
   "version": "3.11.5"
  }
 },
 "nbformat": 4,
 "nbformat_minor": 5
}
